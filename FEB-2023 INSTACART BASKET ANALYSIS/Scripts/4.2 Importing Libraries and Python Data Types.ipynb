{
 "cells": [
  {
   "cell_type": "markdown",
   "id": "495b34cc",
   "metadata": {},
   "source": [
    "# 01. Importing Libraries"
   ]
  },
  {
   "cell_type": "code",
   "execution_count": 1,
   "id": "d4027285",
   "metadata": {},
   "outputs": [],
   "source": [
    "# Import Libraries\n",
    "import pandas as pd\n",
    "import numpy as np\n",
    "import os"
   ]
  },
  {
   "cell_type": "markdown",
   "id": "7d72fe1e",
   "metadata": {},
   "source": [
    "# 02. Data Types"
   ]
  },
  {
   "cell_type": "code",
   "execution_count": 2,
   "id": "aadaccf2",
   "metadata": {},
   "outputs": [],
   "source": [
    "x = 2"
   ]
  },
  {
   "cell_type": "code",
   "execution_count": 3,
   "id": "2c123fb5",
   "metadata": {},
   "outputs": [
    {
     "data": {
      "text/plain": [
       "2"
      ]
     },
     "execution_count": 3,
     "metadata": {},
     "output_type": "execute_result"
    }
   ],
   "source": [
    "x"
   ]
  },
  {
   "cell_type": "code",
   "execution_count": 4,
   "id": "a98f1fd2",
   "metadata": {},
   "outputs": [
    {
     "name": "stdout",
     "output_type": "stream",
     "text": [
      "2\n"
     ]
    }
   ],
   "source": [
    "print(x)"
   ]
  },
  {
   "cell_type": "code",
   "execution_count": 5,
   "id": "7d8d7872",
   "metadata": {},
   "outputs": [
    {
     "data": {
      "text/plain": [
       "int"
      ]
     },
     "execution_count": 5,
     "metadata": {},
     "output_type": "execute_result"
    }
   ],
   "source": [
    "type(x)"
   ]
  },
  {
   "cell_type": "code",
   "execution_count": 6,
   "id": "ae61643b",
   "metadata": {},
   "outputs": [],
   "source": [
    "y = 5.678"
   ]
  },
  {
   "cell_type": "code",
   "execution_count": 7,
   "id": "9ce2fbeb",
   "metadata": {},
   "outputs": [
    {
     "data": {
      "text/plain": [
       "5.678"
      ]
     },
     "execution_count": 7,
     "metadata": {},
     "output_type": "execute_result"
    }
   ],
   "source": [
    "y"
   ]
  },
  {
   "cell_type": "code",
   "execution_count": 8,
   "id": "2bde4365",
   "metadata": {},
   "outputs": [
    {
     "data": {
      "text/plain": [
       "float"
      ]
     },
     "execution_count": 8,
     "metadata": {},
     "output_type": "execute_result"
    }
   ],
   "source": [
    "type(y)"
   ]
  },
  {
   "cell_type": "code",
   "execution_count": 9,
   "id": "1b362845",
   "metadata": {},
   "outputs": [],
   "source": [
    "z = 'Brazil'"
   ]
  },
  {
   "cell_type": "code",
   "execution_count": 10,
   "id": "7523615a",
   "metadata": {},
   "outputs": [
    {
     "data": {
      "text/plain": [
       "'Brazil'"
      ]
     },
     "execution_count": 10,
     "metadata": {},
     "output_type": "execute_result"
    }
   ],
   "source": [
    "z"
   ]
  },
  {
   "cell_type": "code",
   "execution_count": 11,
   "id": "6750263a",
   "metadata": {},
   "outputs": [
    {
     "data": {
      "text/plain": [
       "str"
      ]
     },
     "execution_count": 11,
     "metadata": {},
     "output_type": "execute_result"
    }
   ],
   "source": [
    "type(z)"
   ]
  },
  {
   "cell_type": "code",
   "execution_count": 13,
   "id": "cae3f929",
   "metadata": {},
   "outputs": [
    {
     "data": {
      "text/plain": [
       "bool"
      ]
     },
     "execution_count": 13,
     "metadata": {},
     "output_type": "execute_result"
    }
   ],
   "source": [
    "type(True)"
   ]
  },
  {
   "cell_type": "code",
   "execution_count": 14,
   "id": "9391e5b8",
   "metadata": {},
   "outputs": [
    {
     "data": {
      "text/plain": [
       "bool"
      ]
     },
     "execution_count": 14,
     "metadata": {},
     "output_type": "execute_result"
    }
   ],
   "source": [
    "type(False)"
   ]
  },
  {
   "cell_type": "code",
   "execution_count": 15,
   "id": "e85debd2",
   "metadata": {},
   "outputs": [
    {
     "name": "stdout",
     "output_type": "stream",
     "text": [
      "2\n"
     ]
    }
   ],
   "source": [
    "print(x)"
   ]
  },
  {
   "cell_type": "code",
   "execution_count": 16,
   "id": "9ccb9b5a",
   "metadata": {},
   "outputs": [
    {
     "data": {
      "text/plain": [
       "6"
      ]
     },
     "execution_count": 16,
     "metadata": {},
     "output_type": "execute_result"
    }
   ],
   "source": [
    "x+4"
   ]
  },
  {
   "cell_type": "code",
   "execution_count": 17,
   "id": "e22b2546",
   "metadata": {},
   "outputs": [
    {
     "data": {
      "text/plain": [
       "7.678"
      ]
     },
     "execution_count": 17,
     "metadata": {},
     "output_type": "execute_result"
    }
   ],
   "source": [
    "x+y"
   ]
  },
  {
   "cell_type": "code",
   "execution_count": 18,
   "id": "550fc674",
   "metadata": {},
   "outputs": [],
   "source": [
    "x= x+4"
   ]
  },
  {
   "cell_type": "code",
   "execution_count": 19,
   "id": "ded37a1e",
   "metadata": {},
   "outputs": [
    {
     "data": {
      "text/plain": [
       "6"
      ]
     },
     "execution_count": 19,
     "metadata": {},
     "output_type": "execute_result"
    }
   ],
   "source": [
    "x"
   ]
  },
  {
   "cell_type": "code",
   "execution_count": 20,
   "id": "2841b6db",
   "metadata": {},
   "outputs": [
    {
     "name": "stdout",
     "output_type": "stream",
     "text": [
      "6\n"
     ]
    }
   ],
   "source": [
    "print(x)"
   ]
  },
  {
   "cell_type": "code",
   "execution_count": 21,
   "id": "e00d7630",
   "metadata": {},
   "outputs": [],
   "source": [
    "a= 'Naira '"
   ]
  },
  {
   "cell_type": "code",
   "execution_count": 22,
   "id": "85a22976",
   "metadata": {},
   "outputs": [
    {
     "data": {
      "text/plain": [
       "'Naira '"
      ]
     },
     "execution_count": 22,
     "metadata": {},
     "output_type": "execute_result"
    }
   ],
   "source": [
    "a"
   ]
  },
  {
   "cell_type": "code",
   "execution_count": 23,
   "id": "b1112292",
   "metadata": {},
   "outputs": [],
   "source": [
    "b= 'Marley'"
   ]
  },
  {
   "cell_type": "code",
   "execution_count": 24,
   "id": "62925acc",
   "metadata": {},
   "outputs": [
    {
     "data": {
      "text/plain": [
       "'Marley'"
      ]
     },
     "execution_count": 24,
     "metadata": {},
     "output_type": "execute_result"
    }
   ],
   "source": [
    "b"
   ]
  },
  {
   "cell_type": "code",
   "execution_count": 25,
   "id": "50abdf2c",
   "metadata": {},
   "outputs": [
    {
     "data": {
      "text/plain": [
       "'Naira Marley'"
      ]
     },
     "execution_count": 25,
     "metadata": {},
     "output_type": "execute_result"
    }
   ],
   "source": [
    "a+b"
   ]
  },
  {
   "cell_type": "code",
   "execution_count": 29,
   "id": "cc815e66",
   "metadata": {},
   "outputs": [],
   "source": [
    "n = 'potato'"
   ]
  },
  {
   "cell_type": "code",
   "execution_count": 30,
   "id": "c748611f",
   "metadata": {},
   "outputs": [
    {
     "data": {
      "text/plain": [
       "'potato'"
      ]
     },
     "execution_count": 30,
     "metadata": {},
     "output_type": "execute_result"
    }
   ],
   "source": [
    "n"
   ]
  },
  {
   "cell_type": "code",
   "execution_count": 31,
   "id": "90be9a56",
   "metadata": {},
   "outputs": [
    {
     "data": {
      "text/plain": [
       "'potatopotatopotatopotatopotatopotatopotatopotatopotatopotatopotatopotato'"
      ]
     },
     "execution_count": 31,
     "metadata": {},
     "output_type": "execute_result"
    }
   ],
   "source": [
    "n*12"
   ]
  },
  {
   "cell_type": "code",
   "execution_count": 32,
   "id": "8e2da831",
   "metadata": {},
   "outputs": [
    {
     "data": {
      "text/plain": [
       "False"
      ]
     },
     "execution_count": 32,
     "metadata": {},
     "output_type": "execute_result"
    }
   ],
   "source": [
    "x==y"
   ]
  },
  {
   "cell_type": "code",
   "execution_count": 34,
   "id": "acf0ec79",
   "metadata": {},
   "outputs": [
    {
     "data": {
      "text/plain": [
       "bool"
      ]
     },
     "execution_count": 34,
     "metadata": {},
     "output_type": "execute_result"
    }
   ],
   "source": [
    "type(x==y)"
   ]
  },
  {
   "cell_type": "code",
   "execution_count": 35,
   "id": "7f114429",
   "metadata": {},
   "outputs": [],
   "source": [
    "x = 10"
   ]
  },
  {
   "cell_type": "code",
   "execution_count": 36,
   "id": "80af8f21",
   "metadata": {},
   "outputs": [],
   "source": [
    "y = 10"
   ]
  },
  {
   "cell_type": "code",
   "execution_count": 37,
   "id": "01f95178",
   "metadata": {},
   "outputs": [
    {
     "data": {
      "text/plain": [
       "10"
      ]
     },
     "execution_count": 37,
     "metadata": {},
     "output_type": "execute_result"
    }
   ],
   "source": [
    "x"
   ]
  },
  {
   "cell_type": "code",
   "execution_count": 38,
   "id": "868799af",
   "metadata": {},
   "outputs": [
    {
     "data": {
      "text/plain": [
       "10"
      ]
     },
     "execution_count": 38,
     "metadata": {},
     "output_type": "execute_result"
    }
   ],
   "source": [
    "y"
   ]
  },
  {
   "cell_type": "code",
   "execution_count": 39,
   "id": "2d13b28a",
   "metadata": {},
   "outputs": [
    {
     "data": {
      "text/plain": [
       "100"
      ]
     },
     "execution_count": 39,
     "metadata": {},
     "output_type": "execute_result"
    }
   ],
   "source": [
    "x*y"
   ]
  },
  {
   "cell_type": "code",
   "execution_count": 40,
   "id": "f75b990c",
   "metadata": {},
   "outputs": [
    {
     "data": {
      "text/plain": [
       "100"
      ]
     },
     "execution_count": 40,
     "metadata": {},
     "output_type": "execute_result"
    }
   ],
   "source": [
    "x*10"
   ]
  },
  {
   "cell_type": "code",
   "execution_count": 41,
   "id": "aac68d9a",
   "metadata": {},
   "outputs": [],
   "source": [
    "z = 200"
   ]
  },
  {
   "cell_type": "code",
   "execution_count": 42,
   "id": "ad40e064",
   "metadata": {},
   "outputs": [
    {
     "data": {
      "text/plain": [
       "100"
      ]
     },
     "execution_count": 42,
     "metadata": {},
     "output_type": "execute_result"
    }
   ],
   "source": [
    "z-(x*y)"
   ]
  },
  {
   "cell_type": "code",
   "execution_count": 43,
   "id": "e62d9842",
   "metadata": {},
   "outputs": [],
   "source": [
    "a = 3.50"
   ]
  },
  {
   "cell_type": "code",
   "execution_count": 44,
   "id": "74ede7c9",
   "metadata": {},
   "outputs": [],
   "source": [
    "b = 10.49"
   ]
  },
  {
   "cell_type": "code",
   "execution_count": 45,
   "id": "bf257f0f",
   "metadata": {},
   "outputs": [
    {
     "data": {
      "text/plain": [
       "0.3336510962821735"
      ]
     },
     "execution_count": 45,
     "metadata": {},
     "output_type": "execute_result"
    }
   ],
   "source": [
    "a/b"
   ]
  },
  {
   "cell_type": "code",
   "execution_count": 46,
   "id": "d824791e",
   "metadata": {},
   "outputs": [],
   "source": [
    "u = 'babafemi, '"
   ]
  },
  {
   "cell_type": "code",
   "execution_count": 47,
   "id": "9299ae3d",
   "metadata": {},
   "outputs": [],
   "source": [
    "v = 'olayinka'"
   ]
  },
  {
   "cell_type": "code",
   "execution_count": 50,
   "id": "a0a9526a",
   "metadata": {},
   "outputs": [
    {
     "data": {
      "text/plain": [
       "'babafemi, olayinka'"
      ]
     },
     "execution_count": 50,
     "metadata": {},
     "output_type": "execute_result"
    }
   ],
   "source": [
    "u+v"
   ]
  },
  {
   "cell_type": "code",
   "execution_count": 51,
   "id": "747e2e17",
   "metadata": {},
   "outputs": [],
   "source": [
    "u = 'olayinka '"
   ]
  },
  {
   "cell_type": "code",
   "execution_count": 52,
   "id": "7df7ed96",
   "metadata": {},
   "outputs": [],
   "source": [
    "v= 'babafemi'"
   ]
  },
  {
   "cell_type": "code",
   "execution_count": 53,
   "id": "750089cc",
   "metadata": {},
   "outputs": [
    {
     "data": {
      "text/plain": [
       "'babafemiolayinka '"
      ]
     },
     "execution_count": 53,
     "metadata": {},
     "output_type": "execute_result"
    }
   ],
   "source": [
    "v+u"
   ]
  },
  {
   "cell_type": "code",
   "execution_count": 54,
   "id": "34f1ab81",
   "metadata": {},
   "outputs": [
    {
     "data": {
      "text/plain": [
       "'olayinka babafemi'"
      ]
     },
     "execution_count": 54,
     "metadata": {},
     "output_type": "execute_result"
    }
   ],
   "source": [
    "u+v"
   ]
  },
  {
   "cell_type": "code",
   "execution_count": 55,
   "id": "f665eb28",
   "metadata": {},
   "outputs": [],
   "source": [
    "a = 'Take '"
   ]
  },
  {
   "cell_type": "code",
   "execution_count": 56,
   "id": "0d3e76d5",
   "metadata": {},
   "outputs": [],
   "source": [
    "b = 'me '"
   ]
  },
  {
   "cell_type": "code",
   "execution_count": 58,
   "id": "70715799",
   "metadata": {},
   "outputs": [],
   "source": [
    "z = a+b"
   ]
  },
  {
   "cell_type": "code",
   "execution_count": 59,
   "id": "4990e29a",
   "metadata": {},
   "outputs": [],
   "source": [
    "c = 'home'"
   ]
  },
  {
   "cell_type": "code",
   "execution_count": 60,
   "id": "0fb1397f",
   "metadata": {},
   "outputs": [
    {
     "data": {
      "text/plain": [
       "'Take me home'"
      ]
     },
     "execution_count": 60,
     "metadata": {},
     "output_type": "execute_result"
    }
   ],
   "source": [
    "z+c"
   ]
  },
  {
   "cell_type": "code",
   "execution_count": 61,
   "id": "cbc41cab",
   "metadata": {},
   "outputs": [],
   "source": [
    "q = 'i love you shannon'"
   ]
  },
  {
   "cell_type": "code",
   "execution_count": 62,
   "id": "212a1cb2",
   "metadata": {},
   "outputs": [
    {
     "data": {
      "text/plain": [
       "'i love you shannoni love you shannoni love you shannoni love you shannoni love you shannoni love you shannoni love you shannoni love you shannoni love you shannoni love you shannoni love you shannoni love you shannoni love you shannoni love you shannoni love you shannoni love you shannoni love you shannoni love you shannoni love you shannoni love you shannoni love you shannoni love you shannoni love you shannoni love you shannoni love you shannoni love you shannoni love you shannoni love you shannoni love you shannoni love you shannoni love you shannoni love you shannoni love you shannoni love you shannoni love you shannoni love you shannoni love you shannoni love you shannoni love you shannoni love you shannoni love you shannoni love you shannoni love you shannoni love you shannoni love you shannoni love you shannoni love you shannoni love you shannoni love you shannoni love you shannoni love you shannoni love you shannoni love you shannoni love you shannoni love you shannoni love you shannoni love you shannoni love you shannoni love you shannoni love you shannoni love you shannoni love you shannoni love you shannoni love you shannoni love you shannoni love you shannoni love you shannoni love you shannoni love you shannoni love you shannoni love you shannoni love you shannoni love you shannoni love you shannoni love you shannoni love you shannoni love you shannoni love you shannoni love you shannoni love you shannoni love you shannoni love you shannoni love you shannoni love you shannoni love you shannoni love you shannoni love you shannoni love you shannoni love you shannoni love you shannoni love you shannoni love you shannoni love you shannoni love you shannoni love you shannoni love you shannoni love you shannoni love you shannoni love you shannoni love you shannon'"
      ]
     },
     "execution_count": 62,
     "metadata": {},
     "output_type": "execute_result"
    }
   ],
   "source": [
    "q*100"
   ]
  },
  {
   "cell_type": "code",
   "execution_count": null,
   "id": "7d603e1d",
   "metadata": {},
   "outputs": [],
   "source": []
  }
 ],
 "metadata": {
  "kernelspec": {
   "display_name": "Python 3 (ipykernel)",
   "language": "python",
   "name": "python3"
  },
  "language_info": {
   "codemirror_mode": {
    "name": "ipython",
    "version": 3
   },
   "file_extension": ".py",
   "mimetype": "text/x-python",
   "name": "python",
   "nbconvert_exporter": "python",
   "pygments_lexer": "ipython3",
   "version": "3.9.13"
  }
 },
 "nbformat": 4,
 "nbformat_minor": 5
}
