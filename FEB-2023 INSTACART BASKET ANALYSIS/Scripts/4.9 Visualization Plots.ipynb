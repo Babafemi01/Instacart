{
 "cells": [
  {
   "cell_type": "markdown",
   "id": "f294f3c2",
   "metadata": {},
   "source": [
    "# Import Libraries"
   ]
  },
  {
   "cell_type": "code",
   "execution_count": 1,
   "id": "1aed9626",
   "metadata": {},
   "outputs": [],
   "source": [
    "import pandas as pd\n",
    "import numpy as np\n",
    "import os\n",
    "import matplotlib.pyplot as plt\n",
    "import seaborn as sns\n",
    "import scipy"
   ]
  },
  {
   "cell_type": "code",
   "execution_count": 2,
   "id": "5a5a3a7e",
   "metadata": {},
   "outputs": [],
   "source": [
    "# importing my df_products_merged_products_grouped as df_new_products\n",
    "df_new_products = pd.read_pickle(r'C:\\Users\\Babafemi Olayinka\\Jupyter Notebook\\FEB-2023 INSTACART BASKET ANALYSIS\\Data\\Prepared Data\\df_orders_merged_products_grouped.pkl')"
   ]
  },
  {
   "cell_type": "code",
   "execution_count": 3,
   "id": "8118bf54",
   "metadata": {},
   "outputs": [
    {
     "data": {
      "text/html": [
       "<div>\n",
       "<style scoped>\n",
       "    .dataframe tbody tr th:only-of-type {\n",
       "        vertical-align: middle;\n",
       "    }\n",
       "\n",
       "    .dataframe tbody tr th {\n",
       "        vertical-align: top;\n",
       "    }\n",
       "\n",
       "    .dataframe thead th {\n",
       "        text-align: right;\n",
       "    }\n",
       "</style>\n",
       "<table border=\"1\" class=\"dataframe\">\n",
       "  <thead>\n",
       "    <tr style=\"text-align: right;\">\n",
       "      <th></th>\n",
       "      <th>product_id</th>\n",
       "      <th>product_name</th>\n",
       "      <th>aisle_id</th>\n",
       "      <th>department_id</th>\n",
       "      <th>prices</th>\n",
       "      <th>order_id</th>\n",
       "      <th>user_id</th>\n",
       "      <th>order_number</th>\n",
       "      <th>order_dow</th>\n",
       "      <th>order_hour_of_day</th>\n",
       "      <th>...</th>\n",
       "      <th>Busiest day</th>\n",
       "      <th>Busiest days</th>\n",
       "      <th>busiest_period_of_day</th>\n",
       "      <th>max_order</th>\n",
       "      <th>loyalty_flag</th>\n",
       "      <th>max_price</th>\n",
       "      <th>average_price</th>\n",
       "      <th>spending_flag</th>\n",
       "      <th>order_freq</th>\n",
       "      <th>order_freq_flag</th>\n",
       "    </tr>\n",
       "  </thead>\n",
       "  <tbody>\n",
       "    <tr>\n",
       "      <th>0</th>\n",
       "      <td>1</td>\n",
       "      <td>Chocolate Sandwich Cookies</td>\n",
       "      <td>61</td>\n",
       "      <td>19</td>\n",
       "      <td>5.8</td>\n",
       "      <td>3139998</td>\n",
       "      <td>138</td>\n",
       "      <td>28</td>\n",
       "      <td>6</td>\n",
       "      <td>11</td>\n",
       "      <td>...</td>\n",
       "      <td>Regularly busy</td>\n",
       "      <td>Regular days</td>\n",
       "      <td>Most orders</td>\n",
       "      <td>32</td>\n",
       "      <td>Regular customer</td>\n",
       "      <td>20.0</td>\n",
       "      <td>20.0</td>\n",
       "      <td>High spender</td>\n",
       "      <td>8.0</td>\n",
       "      <td>frequent customer</td>\n",
       "    </tr>\n",
       "    <tr>\n",
       "      <th>1</th>\n",
       "      <td>1</td>\n",
       "      <td>Chocolate Sandwich Cookies</td>\n",
       "      <td>61</td>\n",
       "      <td>19</td>\n",
       "      <td>5.8</td>\n",
       "      <td>1977647</td>\n",
       "      <td>138</td>\n",
       "      <td>30</td>\n",
       "      <td>6</td>\n",
       "      <td>17</td>\n",
       "      <td>...</td>\n",
       "      <td>Regularly busy</td>\n",
       "      <td>Regular days</td>\n",
       "      <td>Average orders</td>\n",
       "      <td>32</td>\n",
       "      <td>Regular customer</td>\n",
       "      <td>20.0</td>\n",
       "      <td>20.0</td>\n",
       "      <td>High spender</td>\n",
       "      <td>8.0</td>\n",
       "      <td>frequent customer</td>\n",
       "    </tr>\n",
       "    <tr>\n",
       "      <th>2</th>\n",
       "      <td>1</td>\n",
       "      <td>Chocolate Sandwich Cookies</td>\n",
       "      <td>61</td>\n",
       "      <td>19</td>\n",
       "      <td>5.8</td>\n",
       "      <td>389851</td>\n",
       "      <td>709</td>\n",
       "      <td>2</td>\n",
       "      <td>0</td>\n",
       "      <td>21</td>\n",
       "      <td>...</td>\n",
       "      <td>Busiest day</td>\n",
       "      <td>Busiest days</td>\n",
       "      <td>Average orders</td>\n",
       "      <td>5</td>\n",
       "      <td>New customer</td>\n",
       "      <td>18.5</td>\n",
       "      <td>18.5</td>\n",
       "      <td>High spender</td>\n",
       "      <td>7.0</td>\n",
       "      <td>frequent customer</td>\n",
       "    </tr>\n",
       "    <tr>\n",
       "      <th>3</th>\n",
       "      <td>1</td>\n",
       "      <td>Chocolate Sandwich Cookies</td>\n",
       "      <td>61</td>\n",
       "      <td>19</td>\n",
       "      <td>5.8</td>\n",
       "      <td>652770</td>\n",
       "      <td>764</td>\n",
       "      <td>1</td>\n",
       "      <td>3</td>\n",
       "      <td>13</td>\n",
       "      <td>...</td>\n",
       "      <td>Regularly busy</td>\n",
       "      <td>Slowest days</td>\n",
       "      <td>Most orders</td>\n",
       "      <td>3</td>\n",
       "      <td>New customer</td>\n",
       "      <td>14.0</td>\n",
       "      <td>14.0</td>\n",
       "      <td>High spender</td>\n",
       "      <td>9.0</td>\n",
       "      <td>frequent customer</td>\n",
       "    </tr>\n",
       "    <tr>\n",
       "      <th>4</th>\n",
       "      <td>1</td>\n",
       "      <td>Chocolate Sandwich Cookies</td>\n",
       "      <td>61</td>\n",
       "      <td>19</td>\n",
       "      <td>5.8</td>\n",
       "      <td>1813452</td>\n",
       "      <td>764</td>\n",
       "      <td>3</td>\n",
       "      <td>4</td>\n",
       "      <td>17</td>\n",
       "      <td>...</td>\n",
       "      <td>Least busy</td>\n",
       "      <td>Slowest days</td>\n",
       "      <td>Average orders</td>\n",
       "      <td>3</td>\n",
       "      <td>New customer</td>\n",
       "      <td>14.0</td>\n",
       "      <td>14.0</td>\n",
       "      <td>High spender</td>\n",
       "      <td>9.0</td>\n",
       "      <td>frequent customer</td>\n",
       "    </tr>\n",
       "  </tbody>\n",
       "</table>\n",
       "<p>5 rows × 25 columns</p>\n",
       "</div>"
      ],
      "text/plain": [
       "   product_id                product_name  aisle_id  department_id  prices  \\\n",
       "0           1  Chocolate Sandwich Cookies        61             19     5.8   \n",
       "1           1  Chocolate Sandwich Cookies        61             19     5.8   \n",
       "2           1  Chocolate Sandwich Cookies        61             19     5.8   \n",
       "3           1  Chocolate Sandwich Cookies        61             19     5.8   \n",
       "4           1  Chocolate Sandwich Cookies        61             19     5.8   \n",
       "\n",
       "   order_id  user_id  order_number  order_dow  order_hour_of_day  ...  \\\n",
       "0   3139998      138            28          6                 11  ...   \n",
       "1   1977647      138            30          6                 17  ...   \n",
       "2    389851      709             2          0                 21  ...   \n",
       "3    652770      764             1          3                 13  ...   \n",
       "4   1813452      764             3          4                 17  ...   \n",
       "\n",
       "      Busiest day  Busiest days  busiest_period_of_day max_order  \\\n",
       "0  Regularly busy  Regular days            Most orders        32   \n",
       "1  Regularly busy  Regular days         Average orders        32   \n",
       "2     Busiest day  Busiest days         Average orders         5   \n",
       "3  Regularly busy  Slowest days            Most orders         3   \n",
       "4      Least busy  Slowest days         Average orders         3   \n",
       "\n",
       "       loyalty_flag max_price average_price spending_flag  order_freq  \\\n",
       "0  Regular customer      20.0          20.0  High spender         8.0   \n",
       "1  Regular customer      20.0          20.0  High spender         8.0   \n",
       "2      New customer      18.5          18.5  High spender         7.0   \n",
       "3      New customer      14.0          14.0  High spender         9.0   \n",
       "4      New customer      14.0          14.0  High spender         9.0   \n",
       "\n",
       "     order_freq_flag  \n",
       "0  frequent customer  \n",
       "1  frequent customer  \n",
       "2  frequent customer  \n",
       "3  frequent customer  \n",
       "4  frequent customer  \n",
       "\n",
       "[5 rows x 25 columns]"
      ]
     },
     "execution_count": 3,
     "metadata": {},
     "output_type": "execute_result"
    }
   ],
   "source": [
    "df_new_products.head()"
   ]
  },
  {
   "cell_type": "code",
   "execution_count": 5,
   "id": "ec39659e",
   "metadata": {},
   "outputs": [
    {
     "data": {
      "text/plain": [
       "<AxesSubplot:>"
      ]
     },
     "execution_count": 5,
     "metadata": {},
     "output_type": "execute_result"
    },
    {
     "data": {
      "image/png": "[encoded data removed]",
      "text/plain": [
       "<Figure size 640x480 with 1 Axes>"
      ]
     },
     "metadata": {},
     "output_type": "display_data"
    }
   ],
   "source": [
    "# creating a bar chart from number of total orders in the order_dow column, sorting it from hihgest to smallest\n",
    "df_new_products['order_dow'].value_counts().plot.bar()"
   ]
  },
  {
   "cell_type": "code",
   "execution_count": 6,
   "id": "74f12acb",
   "metadata": {},
   "outputs": [
    {
     "data": {
      "image/png": "[encoded data removed]",
      "text/plain": [
       "<Figure size 640x480 with 1 Axes>"
      ]
     },
     "metadata": {},
     "output_type": "display_data"
    }
   ],
   "source": [
    "# creating a bar chart from number of total orders in the order_dow column, sorting it with the index axis\n",
    "bar = df_new_products['order_dow'].value_counts().sort_index().plot.bar()"
   ]
  },
  {
   "cell_type": "markdown",
   "id": "7c9c1145",
   "metadata": {},
   "source": [
    "## The sort_index() function will sort the bars in your chart according to their index order (rather than largest to smallest)\n",
    "same result can be seen by counting the frequency and ordering it by the index_col using : df_new_products['order_dow'].value_counts().sort_index()"
   ]
  },
  {
   "cell_type": "code",
   "execution_count": 9,
   "id": "a3fe5892",
   "metadata": {},
   "outputs": [
    {
     "data": {
      "image/png": "[encoded data removed]",
      "text/plain": [
       "<Figure size 640x480 with 1 Axes>"
      ]
     },
     "metadata": {},
     "output_type": "display_data"
    }
   ],
   "source": [
    "# Using colors for your bar plot\n",
    "bar = df_new_products['order_dow'].value_counts().plot.bar(color = ['purple', 'red', 'pink', 'orange', 'yellow', 'green', 'blue'])"
   ]
  },
  {
   "cell_type": "markdown",
   "id": "d2d1526f",
   "metadata": {},
   "source": [
    "# Exporting my Bar Chart Only"
   ]
  },
  {
   "cell_type": "code",
   "execution_count": 10,
   "id": "21713a29",
   "metadata": {},
   "outputs": [],
   "source": [
    "path = r'C:\\Users\\Babafemi Olayinka\\Jupyter Notebook\\FEB-2023 INSTACART BASKET ANALYSIS'"
   ]
  },
  {
   "cell_type": "code",
   "execution_count": 11,
   "id": "615c492e",
   "metadata": {},
   "outputs": [
    {
     "data": {
      "text/plain": [
       "'C:\\\\Users\\\\Babafemi Olayinka\\\\Jupyter Notebook\\\\FEB-2023 INSTACART BASKET ANALYSIS'"
      ]
     },
     "execution_count": 11,
     "metadata": {},
     "output_type": "execute_result"
    }
   ],
   "source": [
    "path"
   ]
  },
  {
   "cell_type": "code",
   "execution_count": 12,
   "id": "08a3028c",
   "metadata": {},
   "outputs": [],
   "source": [
    "bar.figure.savefig(os.path.join(path, 'Analysis','Visuals', 'bar_orders_dow.png'))"
   ]
  },
  {
   "cell_type": "markdown",
   "id": "780c5f30",
   "metadata": {},
   "source": [
    "# Creating Histogram and Scatterplots"
   ]
  },
  {
   "cell_type": "code",
   "execution_count": 13,
   "id": "99078908",
   "metadata": {},
   "outputs": [
    {
     "data": {
      "text/plain": [
       "<AxesSubplot:ylabel='Frequency'>"
      ]
     },
     "execution_count": 13,
     "metadata": {},
     "output_type": "execute_result"
    },
    {
     "data": {
      "image/png": "[encoded data removed]",
      "text/plain": [
       "<Figure size 640x480 with 1 Axes>"
      ]
     },
     "metadata": {},
     "output_type": "display_data"
    }
   ],
   "source": [
    "# Plotting histogram. \n",
    "df_new_products['prices'].plot.hist(bins = 25)"
   ]
  },
  {
   "cell_type": "markdown",
   "id": "62289169",
   "metadata": {},
   "source": [
    "## Something doesn’t seem right here. You should have gotten 25 bars (one for each bin). Instead, however, you’ve gotten one single column. The reason for this has a lot to do with the data prep stage."
   ]
  },
  {
   "cell_type": "code",
   "execution_count": 14,
   "id": "4ae18388",
   "metadata": {},
   "outputs": [
    {
     "data": {
      "text/plain": [
       "11.981143922956724"
      ]
     },
     "execution_count": 14,
     "metadata": {},
     "output_type": "execute_result"
    }
   ],
   "source": [
    "df_new_products['prices'].mean()"
   ]
  },
  {
   "cell_type": "code",
   "execution_count": 15,
   "id": "cc0430e1",
   "metadata": {},
   "outputs": [
    {
     "data": {
      "text/plain": [
       "7.4"
      ]
     },
     "execution_count": 15,
     "metadata": {},
     "output_type": "execute_result"
    }
   ],
   "source": [
    "df_new_products['prices'].median()"
   ]
  },
  {
   "cell_type": "code",
   "execution_count": 16,
   "id": "5b8188d7",
   "metadata": {},
   "outputs": [
    {
     "data": {
      "text/plain": [
       "99999.0"
      ]
     },
     "execution_count": 16,
     "metadata": {},
     "output_type": "execute_result"
    }
   ],
   "source": [
    "# How could an item cost $99,999.00? This must be the result of data corruption or some kind of special value within the data. This is also what’s breaking your histogram\n",
    "df_new_products['prices'].max()"
   ]
  },
  {
   "cell_type": "markdown",
   "id": "2a49ba28",
   "metadata": {},
   "source": [
    "##. Extreme value of 99,999 is forcing your histogram to shove all the small values into one bar and the extreme value in another one. And this second bar is so tiny that you can’t even see it on the chart. Hence, the one-column histogram you saw above. \n",
    "Solution: another way to explore your data is to create a scatterplot. Normally, you’d use scatterplots to investigate the relationship between two variables. However, when conducting an exploratory analysis, you can also use scatterplots to visualize the distribution of data points in order to identify any outliers.\n"
   ]
  },
  {
   "cell_type": "code",
   "execution_count": 17,
   "id": "49dd175f",
   "metadata": {},
   "outputs": [
    {
     "data": {
      "text/plain": [
       "<AxesSubplot:xlabel='prices', ylabel='prices'>"
      ]
     },
     "execution_count": 17,
     "metadata": {},
     "output_type": "execute_result"
    },
    {
     "data": {
      "image/png": "[encoded data removed]",
      "text/plain": [
       "<Figure size 640x480 with 1 Axes>"
      ]
     },
     "metadata": {},
     "output_type": "display_data"
    }
   ],
   "source": [
    "# using scatterplot to view the distrobution of the data sets if it show the outliers. Brcause my mean is 12, i except \n",
    "my dataset to be around 12. But i have 2 outliers\n",
    "sns.scatterplot(x = 'prices', y = 'prices',data = df_new_products)"
   ]
  },
  {
   "cell_type": "markdown",
   "id": "dd2fd0d0",
   "metadata": {},
   "source": [
    "##. Let’s first determine whether there are any values above a certain threshold in your data, for instance, anything above the “normal” price of a supermarket item. If you imagined the maximum price anyone would pay in a supermarket were around 100 dollar, then anything above that amount could be considered an outlier.There are 5,127 rows with outlier observations (prices greater than 100 dollar, which can be further marked as missing values (Nan), which the outliers will definetly be inside of it."
   ]
  },
  {
   "cell_type": "code",
   "execution_count": 4,
   "id": "5d570688",
   "metadata": {},
   "outputs": [],
   "source": [
    "import pandas as pd\n",
    "import numpy as np\n",
    "import os\n",
    "import matplotlib.pyplot as plt\n",
    "import seaborn as sns\n",
    "import scipy"
   ]
  },
  {
   "cell_type": "code",
   "execution_count": 5,
   "id": "234b4571",
   "metadata": {},
   "outputs": [],
   "source": [
    "df_new_products = pd.read_pickle(r'C:\\Users\\Babafemi Olayinka\\Jupyter Notebook\\FEB-2023 INSTACART BASKET ANALYSIS\\Data\\Prepared Data\\df_orders_merged_products_grouped.pkl')"
   ]
  },
  {
   "cell_type": "code",
   "execution_count": 6,
   "id": "b580da95",
   "metadata": {},
   "outputs": [],
   "source": [
    "# creating a subset of my df due to space and i will use this for Histogram and line chart.\n",
    "df_new_products_sub = df_new_products[:2000000]"
   ]
  },
  {
   "cell_type": "code",
   "execution_count": 7,
   "id": "7e54772e",
   "metadata": {},
   "outputs": [],
   "source": [
    "# marking any values within my prices column that is greater than 100 as missing values (NaN) for all the first 2Million rows.\n",
    "df_new_products_sub.loc[df_new_products_sub['prices'] >100, 'prices'] = np.nan"
   ]
  },
  {
   "cell_type": "code",
   "execution_count": 8,
   "id": "775bbf7c",
   "metadata": {},
   "outputs": [
    {
     "data": {
      "text/plain": [
       "24.5"
      ]
     },
     "execution_count": 8,
     "metadata": {},
     "output_type": "execute_result"
    }
   ],
   "source": [
    "# confirming my max value within the prices column to see if i have successfully remove my outliers.\n",
    "df_new_products_sub['prices'].max()"
   ]
  },
  {
   "cell_type": "code",
   "execution_count": 9,
   "id": "032235ec",
   "metadata": {},
   "outputs": [
    {
     "data": {
      "image/png": "[encoded data removed]",
      "text/plain": [
       "<Figure size 640x480 with 1 Axes>"
      ]
     },
     "metadata": {},
     "output_type": "display_data"
    }
   ],
   "source": [
    "# plotting my histogram, making use of 25 bins\n",
    "hist = df_new_products_sub['prices'].plot.hist(bins = 25)"
   ]
  },
  {
   "cell_type": "code",
   "execution_count": 10,
   "id": "45d86ea0",
   "metadata": {},
   "outputs": [
    {
     "data": {
      "image/png": "[encoded data removed]",
      "text/plain": [
       "<Figure size 640x480 with 1 Axes>"
      ]
     },
     "metadata": {},
     "output_type": "display_data"
    }
   ],
   "source": [
    "hist = df_new_products_sub['prices'].plot.hist(bins = 70)"
   ]
  },
  {
   "cell_type": "markdown",
   "id": "95e5b744",
   "metadata": {},
   "source": [
    "# Exporting my histogram"
   ]
  },
  {
   "cell_type": "code",
   "execution_count": 11,
   "id": "a93d2eda",
   "metadata": {},
   "outputs": [],
   "source": [
    "path = r'C:\\Users\\Babafemi Olayinka\\Jupyter Notebook\\FEB-2023 INSTACART BASKET ANALYSIS'"
   ]
  },
  {
   "cell_type": "code",
   "execution_count": 12,
   "id": "cc101e9c",
   "metadata": {},
   "outputs": [
    {
     "data": {
      "text/plain": [
       "'C:\\\\Users\\\\Babafemi Olayinka\\\\Jupyter Notebook\\\\FEB-2023 INSTACART BASKET ANALYSIS'"
      ]
     },
     "execution_count": 12,
     "metadata": {},
     "output_type": "execute_result"
    }
   ],
   "source": [
    "path"
   ]
  },
  {
   "cell_type": "code",
   "execution_count": 37,
   "id": "cce50150",
   "metadata": {},
   "outputs": [],
   "source": [
    "hist.figure.savefig(os.path.join(path, 'Analysis','Visuals', 'hist_orders_dow.png'))"
   ]
  },
  {
   "cell_type": "markdown",
   "id": "6d344224",
   "metadata": {},
   "source": [
    "# Creating Line Chart\n",
    "This subset df_new_products_sub is just the first 2 Million rows and it wont represent the total population, therefore we need to create a sample, that sample will be selected randomly from the entire dataframe.\n",
    " In this case, the value is 0.7, since you want a 70/30 split. Any rows whose assigned number is less than 0.7 are placed in one sample, while any rows whose assigned number is greater than 0.7 are placed in the other, effectively splitting the dataframe into two dataframes at a 70/30 ratiom"
   ]
  },
  {
   "cell_type": "code",
   "execution_count": 19,
   "id": "bf034c69",
   "metadata": {},
   "outputs": [],
   "source": [
    "# This “seed” represents a random but reproducible pattern\n",
    "np.random.seed(4)\n",
    "dev = np.random.rand(len(df_new_products_sub)) <= 0.7"
   ]
  },
  {
   "cell_type": "code",
   "execution_count": 16,
   "id": "b085bbf1",
   "metadata": {},
   "outputs": [
    {
     "data": {
      "text/plain": [
       "array([False,  True, False, ..., False,  True,  True])"
      ]
     },
     "execution_count": 16,
     "metadata": {},
     "output_type": "execute_result"
    }
   ],
   "source": [
    "dev"
   ]
  },
  {
   "cell_type": "code",
   "execution_count": 20,
   "id": "967c4d4b",
   "metadata": {},
   "outputs": [],
   "source": [
    "# create a list holding True/False values to the test np.random.rand() <= 0.7 on my subset df df_new_products_sub assuming that is my\n",
    "entire df due to space\n",
    "dev = np.random.rand(len(df_new_products_sub)) <= 0.7"
   ]
  },
  {
   "cell_type": "code",
   "execution_count": 21,
   "id": "bf0e8ff1",
   "metadata": {},
   "outputs": [],
   "source": [
    "# store 70% of the sample in the df big on my subset df df_new_products_sub assuming that is my\n",
    "entire df due to space\n",
    "big = df_new_products_sub[dev]"
   ]
  },
  {
   "cell_type": "code",
   "execution_count": 22,
   "id": "ef878b12",
   "metadata": {},
   "outputs": [],
   "source": [
    "# store 30% of the sample on my subset df df_new_products_sub assuming that is my entire df due to space\n",
    "small = df_new_products_sub[~dev]"
   ]
  },
  {
   "cell_type": "markdown",
   "id": "11d56a58",
   "metadata": {},
   "source": [
    "1) Great! Before racing immediately to create your Line chart, however, it’s always good to stop for a moment and check that you’ve achieved the results you expected. That you have the 70% of the df as big and 30% as small.\n",
    "\n",
    "STEP 2) As one last step before creating that chart, let’s do something that will speed up the processing time even further—reducing your samples to only those columns necessary for the chart, namely “prices” and “orders_day_of_week.” You can achieve this by running (and checking the result!) of the following command"
   ]
  },
  {
   "cell_type": "code",
   "execution_count": 23,
   "id": "e69d42b2",
   "metadata": {},
   "outputs": [
    {
     "data": {
      "text/plain": [
       "2000000"
      ]
     },
     "execution_count": 23,
     "metadata": {},
     "output_type": "execute_result"
    }
   ],
   "source": [
    "# checking that the total row as expected is what i have by using fx lens.\n",
    "len(df_new_products_sub)"
   ]
  },
  {
   "cell_type": "code",
   "execution_count": 24,
   "id": "f9383564",
   "metadata": {},
   "outputs": [
    {
     "data": {
      "text/plain": [
       "2000000"
      ]
     },
     "execution_count": 24,
     "metadata": {},
     "output_type": "execute_result"
    }
   ],
   "source": [
    "# adding the 70% and 30% to see if they both give me 100%. \n",
    "len(big) + len(small)"
   ]
  },
  {
   "cell_type": "code",
   "execution_count": 26,
   "id": "f00ca9fe",
   "metadata": {},
   "outputs": [],
   "source": [
    "# To creates a new dataframe, df_new_products_sub_2, that contains only the “prices” and “order_day_of_week” columns from your small subset.\n",
    "df_new_products_sub_2 = small[['order_dow','prices']]"
   ]
  },
  {
   "cell_type": "code",
   "execution_count": 27,
   "id": "9abc3ced",
   "metadata": {},
   "outputs": [
    {
     "data": {
      "image/png": "[encoded data removed]",
      "text/plain": [
       "<Figure size 640x480 with 1 Axes>"
      ]
     },
     "metadata": {},
     "output_type": "display_data"
    }
   ],
   "source": [
    "# Creating my line chart with the subset df and using the small sample size to draw a conclusion. Day '0' & '6' has the highest orders of the day.\n",
    "line = sns.lineplot(data = df_new_products_sub_2, x = 'order_dow',y = 'prices')"
   ]
  },
  {
   "cell_type": "code",
   "execution_count": 28,
   "id": "832c3ebd",
   "metadata": {},
   "outputs": [
    {
     "data": {
      "text/plain": [
       "600197"
      ]
     },
     "execution_count": 28,
     "metadata": {},
     "output_type": "execute_result"
    }
   ],
   "source": [
    "# That is the small sample size 30% of 2MLL\n",
    "len(df_new_products_sub_2)"
   ]
  },
  {
   "cell_type": "code",
   "execution_count": 29,
   "id": "60bc8bee",
   "metadata": {},
   "outputs": [],
   "source": [
    "df_new_products_sub_3 = df_new_products_sub[['order_dow','prices']]"
   ]
  },
  {
   "cell_type": "code",
   "execution_count": 30,
   "id": "0c3d4c76",
   "metadata": {},
   "outputs": [
    {
     "data": {
      "image/png": "[encoded data removed]",
      "text/plain": [
       "<Figure size 640x480 with 1 Axes>"
      ]
     },
     "metadata": {},
     "output_type": "display_data"
    }
   ],
   "source": [
    "# The line chart of my entire df of the 2ML rows though. Which i have use to compare the line chart of one of the sample size \n",
    "used above, the small sample size and it shows true representation of the entire df.\n",
    "line_2 = sns.lineplot(data = df_new_products_sub_3, x = 'order_dow',y = 'prices')"
   ]
  },
  {
   "cell_type": "markdown",
   "id": "d9ae8ca2",
   "metadata": {},
   "source": [
    "# Exporting my line chart"
   ]
  },
  {
   "cell_type": "code",
   "execution_count": 31,
   "id": "fb14c6dc",
   "metadata": {},
   "outputs": [],
   "source": [
    "path = r'C:\\Users\\Babafemi Olayinka\\Jupyter Notebook\\FEB-2023 INSTACART BASKET ANALYSIS'"
   ]
  },
  {
   "cell_type": "code",
   "execution_count": 32,
   "id": "1bb02a1e",
   "metadata": {},
   "outputs": [
    {
     "data": {
      "text/plain": [
       "'C:\\\\Users\\\\Babafemi Olayinka\\\\Jupyter Notebook\\\\FEB-2023 INSTACART BASKET ANALYSIS'"
      ]
     },
     "execution_count": 32,
     "metadata": {},
     "output_type": "execute_result"
    }
   ],
   "source": [
    "path"
   ]
  },
  {
   "cell_type": "code",
   "execution_count": 35,
   "id": "80991c0f",
   "metadata": {},
   "outputs": [],
   "source": [
    "line.figure.savefig(os.path.join(path, 'Analysis','Visuals', 'line_orders_dow.png'))"
   ]
  },
  {
   "cell_type": "code",
   "execution_count": 36,
   "id": "75305851",
   "metadata": {},
   "outputs": [],
   "source": [
    "line_2.figure.savefig(os.path.join(path, 'Analysis','Visuals', 'line_2_orders_dow.png'))"
   ]
  },
  {
   "cell_type": "code",
   "execution_count": null,
   "id": "3e793917",
   "metadata": {},
   "outputs": [],
   "source": []
  }
 ],
 "metadata": {
  "kernelspec": {
   "display_name": "Python 3 (ipykernel)",
   "language": "python",
   "name": "python3"
  },
  "language_info": {
   "codemirror_mode": {
    "name": "ipython",
    "version": 3
   },
   "file_extension": ".py",
   "mimetype": "text/x-python",
   "name": "python",
   "nbconvert_exporter": "python",
   "pygments_lexer": "ipython3",
   "version": "3.9.13"
  }
 },
 "nbformat": 4,
 "nbformat_minor": 5
}
